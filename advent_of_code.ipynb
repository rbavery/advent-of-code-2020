{
 "cells": [
  {
   "cell_type": "markdown",
   "metadata": {},
   "source": [
    "# Problem 1, finding two numbers in a list that add up to 2020 and multiplying them"
   ]
  },
  {
   "cell_type": "code",
   "execution_count": 1,
   "metadata": {},
   "outputs": [
    {
     "data": {
      "text/plain": [
       "744475"
      ]
     },
     "execution_count": 1,
     "metadata": {},
     "output_type": "execute_result"
    }
   ],
   "source": [
    "import numpy as np\n",
    "\n",
    "with open(\"data/input1.txt\") as f:\n",
    "    lines = f.read().splitlines()\n",
    "\n",
    "report = np.array(lines)\n",
    "\n",
    "report = report.astype(int)\n",
    "\n",
    "complement = 2020 - report \n",
    "\n",
    "two_nums = list(set(complement).intersection(set(report)))\n",
    "\n",
    "np.product(two_nums)"
   ]
  },
  {
   "cell_type": "markdown",
   "metadata": {},
   "source": [
    "# Problem 1 part two, finding three numbers in a list that add up to 2020 and multiplying them"
   ]
  },
  {
   "cell_type": "code",
   "execution_count": 2,
   "metadata": {},
   "outputs": [],
   "source": [
    "from functools import reduce\n",
    "cross_additions = reduce(np.add.outer, [report]*3) # element wise addition with every 3-pair stored in a 3D cube."
   ]
  },
  {
   "cell_type": "code",
   "execution_count": 3,
   "metadata": {},
   "outputs": [
    {
     "data": {
      "text/plain": [
       "array([[ 44,  65, 111],\n",
       "       [ 44, 111,  65],\n",
       "       [ 65,  44, 111],\n",
       "       [ 65, 111,  44],\n",
       "       [111,  44,  65],\n",
       "       [111,  65,  44]])"
      ]
     },
     "execution_count": 3,
     "metadata": {},
     "output_type": "execute_result"
    }
   ],
   "source": [
    "np.argwhere(cross_additions==2020) # there are 6 rows of the indices because a three way cross product of same sized vectors results in 6 copies of all products"
   ]
  },
  {
   "cell_type": "code",
   "execution_count": 4,
   "metadata": {},
   "outputs": [],
   "source": [
    "three_nums_indices = np.unique(np.argwhere(cross_additions==2020))"
   ]
  },
  {
   "cell_type": "code",
   "execution_count": 5,
   "metadata": {},
   "outputs": [
    {
     "data": {
      "text/plain": [
       "2020"
      ]
     },
     "execution_count": 5,
     "metadata": {},
     "output_type": "execute_result"
    }
   ],
   "source": [
    "reduce(np.add, report[three_nums_indices])"
   ]
  },
  {
   "cell_type": "code",
   "execution_count": 6,
   "metadata": {},
   "outputs": [
    {
     "data": {
      "text/plain": [
       "70276940"
      ]
     },
     "execution_count": 6,
     "metadata": {},
     "output_type": "execute_result"
    }
   ],
   "source": [
    "np.product(report[three_nums_indices])"
   ]
  },
  {
   "cell_type": "markdown",
   "metadata": {},
   "source": [
    "# Problem 2 finding valid passwords, and which strings violate policy of repeating letters"
   ]
  },
  {
   "cell_type": "code",
   "execution_count": 7,
   "metadata": {},
   "outputs": [],
   "source": [
    "with open(\"data/input2.txt\") as f:\n",
    "    pws = f.read().splitlines()"
   ]
  },
  {
   "cell_type": "code",
   "execution_count": 8,
   "metadata": {},
   "outputs": [],
   "source": [
    "valid_pwords = 0\n",
    "for p in pws:\n",
    "    line = p.split(\" \")\n",
    "    letter = line[1][0]\n",
    "    pword = line[2]\n",
    "    policy = line[0].split(\"-\")\n",
    "    min_n = int(policy[0])\n",
    "    max_n = int(policy[1])\n",
    "    \n",
    "    letter_count = 0\n",
    "    for char in pword:\n",
    "        if char == letter:\n",
    "            letter_count += 1\n",
    "            \n",
    "    if letter_count >= min_n and letter_count <= max_n:\n",
    "        valid_pwords += 1"
   ]
  },
  {
   "cell_type": "code",
   "execution_count": 9,
   "metadata": {},
   "outputs": [
    {
     "data": {
      "text/plain": [
       "515"
      ]
     },
     "execution_count": 9,
     "metadata": {},
     "output_type": "execute_result"
    }
   ],
   "source": [
    "valid_pwords"
   ]
  },
  {
   "cell_type": "markdown",
   "metadata": {},
   "source": [
    "# Part Two"
   ]
  },
  {
   "cell_type": "code",
   "execution_count": 10,
   "metadata": {},
   "outputs": [],
   "source": [
    "valid_pwords = 0\n",
    "for p in pws:\n",
    "    line = p.split(\" \")\n",
    "    letter = line[1][0]\n",
    "    pword = line[2]\n",
    "    policy = line[0].split(\"-\")\n",
    "    p_1 = int(policy[0])\n",
    "    p_2 = int(policy[1])\n",
    "    \n",
    "    letter_count = 0\n",
    "    if (pword[p_1-1] == letter) != (pword[p_2-1] == letter):\n",
    "        valid_pwords += 1"
   ]
  },
  {
   "cell_type": "code",
   "execution_count": 11,
   "metadata": {},
   "outputs": [
    {
     "data": {
      "text/plain": [
       "711"
      ]
     },
     "execution_count": 11,
     "metadata": {},
     "output_type": "execute_result"
    }
   ],
   "source": [
    "valid_pwords"
   ]
  },
  {
   "cell_type": "markdown",
   "metadata": {},
   "source": [
    "# Problem 3"
   ]
  },
  {
   "cell_type": "code",
   "execution_count": 12,
   "metadata": {},
   "outputs": [],
   "source": [
    "with open(\"data/input3.txt\") as f:\n",
    "    slope = f.read().splitlines()\n",
    "#reformat array\n",
    "listslope = [list(i) for i in slope]\n",
    "char_arr = np.char.replace(np.array(listslope), \".\", \"0\")\n",
    "char_arr = np.char.replace(char_arr, \"#\", \"1\")\n",
    "slope_arr = char_arr.astype(int)"
   ]
  },
  {
   "cell_type": "code",
   "execution_count": 51,
   "metadata": {},
   "outputs": [],
   "source": [
    "def count_trees_on_slope_fails(down, right, slope_arr):\n",
    "    height, width = slope_arr.shape\n",
    "    slope_repeats = np.ceil((height / width) * right) \n",
    "    full_slope_plus_extra = np.hstack([slope_arr]*int(slope_repeats)) # repeat the slope horizontally\n",
    "    end_of_slope_width = height*right\n",
    "    full_slope = full_slope_plus_extra[:,:height*right] # the slope is only as wide as 3 times the height\n",
    "    rights = np.arange(0, int(full_slope.shape[1]), right)\n",
    "    downs = np.arange(0, int(full_slope.shape[0]), down)\n",
    "\n",
    "    return np.sum(full_slope[downs,rights])"
   ]
  },
  {
   "cell_type": "code",
   "execution_count": 71,
   "metadata": {},
   "outputs": [],
   "source": [
    "# we need to round up to get the full slope width that the sled traverses since it goes through a partial full-width on it's way down\n",
    "\n",
    "def count_trees_on_slope(down, right, slope_arr):\n",
    "    height, width = slope_arr.shape\n",
    "    slope_repeats = np.ceil((height / width) * right/down) \n",
    "\n",
    "    full_slope_plus_extra = np.hstack([slope_arr]*int(slope_repeats)) # repeat the slope horizontally\n",
    "    \n",
    "    if down > right:\n",
    "\n",
    "        end_of_slope_width = full_slope_plus_extra.shape[1] - (1 - int(np.ceil(height*(right/down))))\n",
    "\n",
    "    else:\n",
    "\n",
    "        end_of_slope_width = height*right\n",
    "    \n",
    "    full_slope = full_slope_plus_extra[:,:end_of_slope_width] # the slope is only as wide as right times the height divided by the down\n",
    "    \n",
    "    \n",
    "    rights = np.arange(0, int(full_slope.shape[1]), right)\n",
    "    downs = np.arange(0, int(full_slope.shape[0]), down)\n",
    "\n",
    "    return np.sum(full_slope[downs,rights])"
   ]
  },
  {
   "cell_type": "code",
   "execution_count": 72,
   "metadata": {},
   "outputs": [
    {
     "data": {
      "text/plain": [
       "58"
      ]
     },
     "execution_count": 72,
     "metadata": {},
     "output_type": "execute_result"
    }
   ],
   "source": [
    "count_trees_on_slope(1, 1, slope_arr)"
   ]
  },
  {
   "cell_type": "markdown",
   "metadata": {},
   "source": [
    "# Part 2"
   ]
  },
  {
   "cell_type": "code",
   "execution_count": 75,
   "metadata": {},
   "outputs": [
    {
     "name": "stdout",
     "output_type": "stream",
     "text": [
      "(1, 1)\n",
      "(3, 1)\n",
      "(5, 1)\n",
      "(7, 1)\n"
     ]
    }
   ],
   "source": [
    "tree_totals = 0\n",
    "for i in [(1,1), (3,1), (5,1), (7,1)]:\n",
    "    print(i)\n",
    "    assert count_trees_on_slope_fails(i[1], i[0], slope_arr) == count_trees_on_slope(i[1], i[0], slope_arr)"
   ]
  },
  {
   "cell_type": "code",
   "execution_count": 76,
   "metadata": {},
   "outputs": [
    {
     "name": "stdout",
     "output_type": "stream",
     "text": [
      "(1, 1)\n",
      "(3, 1)\n",
      "(5, 1)\n",
      "(7, 1)\n",
      "(1, 2)\n"
     ]
    },
    {
     "ename": "IndexError",
     "evalue": "shape mismatch: indexing arrays could not be broadcast together with shapes (162,) (186,) ",
     "output_type": "error",
     "traceback": [
      "\u001b[0;31m---------------------------------------------------------------------------\u001b[0m",
      "\u001b[0;31mIndexError\u001b[0m                                Traceback (most recent call last)",
      "\u001b[0;32m<ipython-input-76-6bd94c056555>\u001b[0m in \u001b[0;36m<module>\u001b[0;34m\u001b[0m\n\u001b[1;32m      2\u001b[0m \u001b[0;32mfor\u001b[0m \u001b[0mi\u001b[0m \u001b[0;32min\u001b[0m \u001b[0;34m[\u001b[0m\u001b[0;34m(\u001b[0m\u001b[0;36m1\u001b[0m\u001b[0;34m,\u001b[0m\u001b[0;36m1\u001b[0m\u001b[0;34m)\u001b[0m\u001b[0;34m,\u001b[0m \u001b[0;34m(\u001b[0m\u001b[0;36m3\u001b[0m\u001b[0;34m,\u001b[0m\u001b[0;36m1\u001b[0m\u001b[0;34m)\u001b[0m\u001b[0;34m,\u001b[0m \u001b[0;34m(\u001b[0m\u001b[0;36m5\u001b[0m\u001b[0;34m,\u001b[0m\u001b[0;36m1\u001b[0m\u001b[0;34m)\u001b[0m\u001b[0;34m,\u001b[0m \u001b[0;34m(\u001b[0m\u001b[0;36m7\u001b[0m\u001b[0;34m,\u001b[0m\u001b[0;36m1\u001b[0m\u001b[0;34m)\u001b[0m\u001b[0;34m,\u001b[0m \u001b[0;34m(\u001b[0m\u001b[0;36m1\u001b[0m\u001b[0;34m,\u001b[0m\u001b[0;36m2\u001b[0m\u001b[0;34m)\u001b[0m\u001b[0;34m]\u001b[0m\u001b[0;34m:\u001b[0m\u001b[0;34m\u001b[0m\u001b[0;34m\u001b[0m\u001b[0m\n\u001b[1;32m      3\u001b[0m     \u001b[0mprint\u001b[0m\u001b[0;34m(\u001b[0m\u001b[0mi\u001b[0m\u001b[0;34m)\u001b[0m\u001b[0;34m\u001b[0m\u001b[0;34m\u001b[0m\u001b[0m\n\u001b[0;32m----> 4\u001b[0;31m     \u001b[0mtree_totals\u001b[0m \u001b[0;34m+=\u001b[0m \u001b[0mcount_trees_on_slope\u001b[0m\u001b[0;34m(\u001b[0m\u001b[0mi\u001b[0m\u001b[0;34m[\u001b[0m\u001b[0;36m1\u001b[0m\u001b[0;34m]\u001b[0m\u001b[0;34m,\u001b[0m \u001b[0mi\u001b[0m\u001b[0;34m[\u001b[0m\u001b[0;36m0\u001b[0m\u001b[0;34m]\u001b[0m\u001b[0;34m,\u001b[0m \u001b[0mslope_arr\u001b[0m\u001b[0;34m)\u001b[0m\u001b[0;34m\u001b[0m\u001b[0;34m\u001b[0m\u001b[0m\n\u001b[0m",
      "\u001b[0;32m<ipython-input-71-597a4bcf0141>\u001b[0m in \u001b[0;36mcount_trees_on_slope\u001b[0;34m(down, right, slope_arr)\u001b[0m\n\u001b[1;32m     21\u001b[0m     \u001b[0mdowns\u001b[0m \u001b[0;34m=\u001b[0m \u001b[0mnp\u001b[0m\u001b[0;34m.\u001b[0m\u001b[0marange\u001b[0m\u001b[0;34m(\u001b[0m\u001b[0;36m0\u001b[0m\u001b[0;34m,\u001b[0m \u001b[0mint\u001b[0m\u001b[0;34m(\u001b[0m\u001b[0mfull_slope\u001b[0m\u001b[0;34m.\u001b[0m\u001b[0mshape\u001b[0m\u001b[0;34m[\u001b[0m\u001b[0;36m0\u001b[0m\u001b[0;34m]\u001b[0m\u001b[0;34m)\u001b[0m\u001b[0;34m,\u001b[0m \u001b[0mdown\u001b[0m\u001b[0;34m)\u001b[0m\u001b[0;34m\u001b[0m\u001b[0;34m\u001b[0m\u001b[0m\n\u001b[1;32m     22\u001b[0m \u001b[0;34m\u001b[0m\u001b[0m\n\u001b[0;32m---> 23\u001b[0;31m     \u001b[0;32mreturn\u001b[0m \u001b[0mnp\u001b[0m\u001b[0;34m.\u001b[0m\u001b[0msum\u001b[0m\u001b[0;34m(\u001b[0m\u001b[0mfull_slope\u001b[0m\u001b[0;34m[\u001b[0m\u001b[0mdowns\u001b[0m\u001b[0;34m,\u001b[0m\u001b[0mrights\u001b[0m\u001b[0;34m]\u001b[0m\u001b[0;34m)\u001b[0m\u001b[0;34m\u001b[0m\u001b[0;34m\u001b[0m\u001b[0m\n\u001b[0m",
      "\u001b[0;31mIndexError\u001b[0m: shape mismatch: indexing arrays could not be broadcast together with shapes (162,) (186,) "
     ]
    }
   ],
   "source": [
    "tree_totals = 0\n",
    "for i in [(1,1), (3,1), (5,1), (7,1), (1,2)]:\n",
    "    print(i)\n",
    "    tree_totals += count_trees_on_slope(i[1], i[0], slope_arr)"
   ]
  },
  {
   "cell_type": "code",
   "execution_count": 78,
   "metadata": {},
   "outputs": [
    {
     "ename": "IndexError",
     "evalue": "shape mismatch: indexing arrays could not be broadcast together with shapes (162,) (186,) ",
     "output_type": "error",
     "traceback": [
      "\u001b[0;31m---------------------------------------------------------------------------\u001b[0m",
      "\u001b[0;31mIndexError\u001b[0m                                Traceback (most recent call last)",
      "\u001b[0;32m<ipython-input-78-1f5be31e2b55>\u001b[0m in \u001b[0;36m<module>\u001b[0;34m\u001b[0m\n\u001b[1;32m     19\u001b[0m \u001b[0mrights\u001b[0m \u001b[0;34m=\u001b[0m \u001b[0mnp\u001b[0m\u001b[0;34m.\u001b[0m\u001b[0marange\u001b[0m\u001b[0;34m(\u001b[0m\u001b[0;36m0\u001b[0m\u001b[0;34m,\u001b[0m \u001b[0mint\u001b[0m\u001b[0;34m(\u001b[0m\u001b[0mfull_slope\u001b[0m\u001b[0;34m.\u001b[0m\u001b[0mshape\u001b[0m\u001b[0;34m[\u001b[0m\u001b[0;36m1\u001b[0m\u001b[0;34m]\u001b[0m\u001b[0;34m)\u001b[0m\u001b[0;34m,\u001b[0m \u001b[0mright\u001b[0m\u001b[0;34m)\u001b[0m\u001b[0;34m\u001b[0m\u001b[0;34m\u001b[0m\u001b[0m\n\u001b[1;32m     20\u001b[0m \u001b[0mdowns\u001b[0m \u001b[0;34m=\u001b[0m \u001b[0mnp\u001b[0m\u001b[0;34m.\u001b[0m\u001b[0marange\u001b[0m\u001b[0;34m(\u001b[0m\u001b[0;36m0\u001b[0m\u001b[0;34m,\u001b[0m \u001b[0mint\u001b[0m\u001b[0;34m(\u001b[0m\u001b[0mfull_slope\u001b[0m\u001b[0;34m.\u001b[0m\u001b[0mshape\u001b[0m\u001b[0;34m[\u001b[0m\u001b[0;36m0\u001b[0m\u001b[0;34m]\u001b[0m\u001b[0;34m)\u001b[0m\u001b[0;34m,\u001b[0m \u001b[0mdown\u001b[0m\u001b[0;34m)\u001b[0m\u001b[0;34m\u001b[0m\u001b[0;34m\u001b[0m\u001b[0m\n\u001b[0;32m---> 21\u001b[0;31m \u001b[0mnp\u001b[0m\u001b[0;34m.\u001b[0m\u001b[0msum\u001b[0m\u001b[0;34m(\u001b[0m\u001b[0mfull_slope\u001b[0m\u001b[0;34m[\u001b[0m\u001b[0mdowns\u001b[0m\u001b[0;34m,\u001b[0m\u001b[0mrights\u001b[0m\u001b[0;34m]\u001b[0m\u001b[0;34m)\u001b[0m\u001b[0;34m\u001b[0m\u001b[0;34m\u001b[0m\u001b[0m\n\u001b[0m",
      "\u001b[0;31mIndexError\u001b[0m: shape mismatch: indexing arrays could not be broadcast together with shapes (162,) (186,) "
     ]
    }
   ],
   "source": [
    "right = 1\n",
    "down = 2\n",
    "height, width = slope_arr.shape\n",
    "slope_repeats = np.ceil((height / width) * right/down) \n",
    "\n",
    "full_slope_plus_extra = np.hstack([slope_arr]*int(slope_repeats)) # repeat the slope horizontally\n",
    "\n",
    "if down > right:\n",
    "    cols_to_include = int(np.ceil((height/down)) * right)\n",
    "    end_of_slope_width = full_slope_plus_extra.shape[1] -  - cols_to_include)\n",
    "\n",
    "else:\n",
    "\n",
    "    end_of_slope_width = height*right\n",
    "\n",
    "full_slope = full_slope_plus_extra[:,:end_of_slope_width] # the slope is only as wide as right times the height divided by the down\n",
    "\n",
    "\n",
    "rights = np.arange(0, int(full_slope.shape[1]), right)\n",
    "downs = np.arange(0, int(full_slope.shape[0]), down)\n",
    "np.sum(full_slope[downs,rights])"
   ]
  },
  {
   "cell_type": "code",
   "execution_count": 87,
   "metadata": {},
   "outputs": [
    {
     "data": {
      "text/plain": [
       "(323, 186)"
      ]
     },
     "execution_count": 87,
     "metadata": {},
     "output_type": "execute_result"
    }
   ],
   "source": [
    "full_slope.shape"
   ]
  },
  {
   "cell_type": "code",
   "execution_count": 82,
   "metadata": {},
   "outputs": [
    {
     "data": {
      "text/plain": [
       "186"
      ]
     },
     "execution_count": 82,
     "metadata": {},
     "output_type": "execute_result"
    }
   ],
   "source": [
    "len(rights)"
   ]
  },
  {
   "cell_type": "code",
   "execution_count": 83,
   "metadata": {},
   "outputs": [
    {
     "data": {
      "text/plain": [
       "162"
      ]
     },
     "execution_count": 83,
     "metadata": {},
     "output_type": "execute_result"
    }
   ],
   "source": [
    "len(downs)"
   ]
  },
  {
   "cell_type": "code",
   "execution_count": 84,
   "metadata": {},
   "outputs": [
    {
     "data": {
      "text/plain": [
       "-161"
      ]
     },
     "execution_count": 84,
     "metadata": {},
     "output_type": "execute_result"
    }
   ],
   "source": [
    "(1 - int(np.ceil(height*(right/down))))"
   ]
  },
  {
   "cell_type": "code",
   "execution_count": 86,
   "metadata": {},
   "outputs": [
    {
     "data": {
      "text/plain": [
       "(323, 186)"
      ]
     },
     "execution_count": 86,
     "metadata": {},
     "output_type": "execute_result"
    }
   ],
   "source": [
    "full_slope_plus_extra.shape"
   ]
  },
  {
   "cell_type": "code",
   "execution_count": null,
   "metadata": {},
   "outputs": [],
   "source": []
  },
  {
   "cell_type": "code",
   "execution_count": null,
   "metadata": {},
   "outputs": [],
   "source": []
  }
 ],
 "metadata": {
  "kernelspec": {
   "display_name": "Python 3",
   "language": "python",
   "name": "python3"
  },
  "language_info": {
   "codemirror_mode": {
    "name": "ipython",
    "version": 3
   },
   "file_extension": ".py",
   "mimetype": "text/x-python",
   "name": "python",
   "nbconvert_exporter": "python",
   "pygments_lexer": "ipython3",
   "version": "3.7.8"
  }
 },
 "nbformat": 4,
 "nbformat_minor": 4
}
